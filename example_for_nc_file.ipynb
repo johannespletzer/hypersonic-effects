{
 "cells": [
  {
   "cell_type": "markdown",
   "id": "4d4139d7",
   "metadata": {},
   "source": [
    "# Example on how to use the python class"
   ]
  },
  {
   "cell_type": "markdown",
   "id": "69d8b67a",
   "metadata": {
    "tags": []
   },
   "source": [
    "## Get file"
   ]
  },
  {
   "cell_type": "code",
   "execution_count": 1,
   "id": "e3f6ca77-8450-44f3-9784-015e10be73ce",
   "metadata": {},
   "outputs": [],
   "source": [
    "files = !ls -lh /work/bd1062/b309159/TUHH/STRATOFLY-MR3-2024/*.nc"
   ]
  },
  {
   "cell_type": "code",
   "execution_count": 2,
   "id": "0379df7d",
   "metadata": {},
   "outputs": [
    {
     "data": {
      "text/plain": [
       "['/work/bd1062/b309159/TUHH/STRATOFLY-MR3-2024/Emission_Inventory_H2O_Optimized_v0.1_MR3_Fleet_BRU-MYA_2075.nc',\n",
       " '/work/bd1062/b309159/TUHH/STRATOFLY-MR3-2024/Emission_Inventory_NO_Optimized_v0.1_MR3_Fleet_BRU-MYA_2075.nc']"
      ]
     },
     "execution_count": 2,
     "metadata": {},
     "output_type": "execute_result"
    }
   ],
   "source": [
    "[a.split()[-1] for a in files]"
   ]
  },
  {
   "cell_type": "markdown",
   "id": "69e21798",
   "metadata": {},
   "source": [
    "## Load class"
   ]
  },
  {
   "cell_type": "code",
   "execution_count": 3,
   "id": "398b831e",
   "metadata": {
    "tags": []
   },
   "outputs": [],
   "source": [
    "from package import calculate_rf as rf"
   ]
  },
  {
   "cell_type": "markdown",
   "id": "d93d1acc",
   "metadata": {},
   "source": [
    "## Calculate radiative forcing and emissions for each emission_inventory-file"
   ]
  },
  {
   "cell_type": "code",
   "execution_count": 4,
   "id": "00581443",
   "metadata": {
    "scrolled": true
   },
   "outputs": [],
   "source": [
    "emission_inventory = rf.RadiativeForcing(files[0].split()[-1])"
   ]
  },
  {
   "cell_type": "code",
   "execution_count": 6,
   "id": "71c59507",
   "metadata": {},
   "outputs": [],
   "source": [
    "emission_inventory.drop_vertical_levels()\n",
    "\n",
    "net_rf = emission_inventory.total_rf()\n",
    "\n",
    "net_emis = emission_inventory.total_emis()"
   ]
  },
  {
   "cell_type": "markdown",
   "id": "18044456",
   "metadata": {},
   "source": [
    "`calculate_rf(file.split()[-1])` creates a class instance with the emission_inventory data file.\n",
    "`load_nc_as_dataframe()` extracts the relevant data from the file within `__init__()`.\n",
    "`drop_vertical_levels()` limits the vertical emission to emission above the tropopause, which is the default. Other vertical limits can be given in hectopascal with e.g. `drop_vertical_levels(100)` to limit emissions to above 100 hPa.\n",
    "`total_rf()` returns the stratospheric adjusted radiative forcing of the emission_inventory.\n",
    "`total_emis()` returns the accumulated emissions for the chosen vertical levels."
   ]
  },
  {
   "cell_type": "markdown",
   "id": "43f97c9e",
   "metadata": {
    "tags": []
   },
   "source": [
    "## Output"
   ]
  },
  {
   "cell_type": "code",
   "execution_count": 7,
   "id": "17c2f93e",
   "metadata": {},
   "outputs": [
    {
     "data": {
      "text/html": [
       "<div>\n",
       "<style scoped>\n",
       "    .dataframe tbody tr th:only-of-type {\n",
       "        vertical-align: middle;\n",
       "    }\n",
       "\n",
       "    .dataframe tbody tr th {\n",
       "        vertical-align: top;\n",
       "    }\n",
       "\n",
       "    .dataframe thead th {\n",
       "        text-align: right;\n",
       "    }\n",
       "</style>\n",
       "<table border=\"1\" class=\"dataframe\">\n",
       "  <thead>\n",
       "    <tr style=\"text-align: right;\">\n",
       "      <th></th>\n",
       "      <th>Latitude</th>\n",
       "      <th>Longitude</th>\n",
       "      <th>Altitude [km]</th>\n",
       "      <th>tp_WMO [Pa]</th>\n",
       "      <th>Altitude [Pa]</th>\n",
       "      <th>H2 [kg]</th>\n",
       "      <th>H2O [kg]</th>\n",
       "      <th>NO [kg]</th>\n",
       "      <th>H2O RF from H2O [mW m-2]</th>\n",
       "      <th>O3 RF from H2O [mW m-2]</th>\n",
       "      <th>O3 RF from H2 [mW m-2]</th>\n",
       "      <th>O3 RF from NO [mW m-2]</th>\n",
       "    </tr>\n",
       "  </thead>\n",
       "  <tbody>\n",
       "    <tr>\n",
       "      <th>75</th>\n",
       "      <td>52.5</td>\n",
       "      <td>3.5</td>\n",
       "      <td>10.8204</td>\n",
       "      <td>23319.923828</td>\n",
       "      <td>23280.389545</td>\n",
       "      <td>158287.748164</td>\n",
       "      <td>1.615003e+07</td>\n",
       "      <td>2820.768411</td>\n",
       "      <td>0.018039</td>\n",
       "      <td>-0.002712</td>\n",
       "      <td>-0.000087</td>\n",
       "      <td>0.000361</td>\n",
       "    </tr>\n",
       "  </tbody>\n",
       "</table>\n",
       "</div>"
      ],
      "text/plain": [
       "    Latitude  Longitude  Altitude [km]   tp_WMO [Pa]  Altitude [Pa]   \n",
       "75      52.5        3.5        10.8204  23319.923828   23280.389545  \\\n",
       "\n",
       "          H2 [kg]      H2O [kg]      NO [kg] H2O RF from H2O [mW m-2]   \n",
       "75  158287.748164  1.615003e+07  2820.768411                 0.018039  \\\n",
       "\n",
       "   O3 RF from H2O [mW m-2] O3 RF from H2 [mW m-2] O3 RF from NO [mW m-2]  \n",
       "75               -0.002712              -0.000087               0.000361  "
      ]
     },
     "execution_count": 7,
     "metadata": {},
     "output_type": "execute_result"
    }
   ],
   "source": [
    "emission_inventory.data.head(1)"
   ]
  },
  {
   "cell_type": "markdown",
   "id": "b7771ad1",
   "metadata": {},
   "source": [
    "total_emis() returns three values with H$_2$O, H$_2$ and NO emission above the tropopause in tons in this order"
   ]
  },
  {
   "cell_type": "code",
   "execution_count": 8,
   "id": "9455e5e6",
   "metadata": {},
   "outputs": [
    {
     "data": {
      "text/plain": [
       "[26958088.42, 24367.64, 278281.68]"
      ]
     },
     "execution_count": 8,
     "metadata": {},
     "output_type": "execute_result"
    }
   ],
   "source": [
    "net_emis # kg"
   ]
  },
  {
   "cell_type": "markdown",
   "id": "e1380682",
   "metadata": {},
   "source": [
    "total_rf() returns one value with radiative forcing from water vapour changes due to water vapour emisson and ozone radiative forcing from H$_2$O, H$_2$ and NO emission in mWm-2"
   ]
  },
  {
   "cell_type": "code",
   "execution_count": 9,
   "id": "f5875c12",
   "metadata": {},
   "outputs": [
    {
     "data": {
      "text/plain": [
       "57.94266737036095"
      ]
     },
     "execution_count": 9,
     "metadata": {},
     "output_type": "execute_result"
    }
   ],
   "source": [
    "net_rf # mWm-2"
   ]
  },
  {
   "cell_type": "markdown",
   "id": "421e0e14",
   "metadata": {},
   "source": [
    "## Visualisation"
   ]
  },
  {
   "cell_type": "code",
   "execution_count": 10,
   "id": "df313419",
   "metadata": {},
   "outputs": [
    {
     "data": {
      "image/png": "[encoded data removed]",
      "text/plain": [
       "<Figure size 1400x300 with 3 Axes>"
      ]
     },
     "metadata": {},
     "output_type": "display_data"
    }
   ],
   "source": [
    "bins = np.linspace(0, 36, 20) # Altitude bins\n",
    "bin_idxs = np.digitize(emission_inventory.data['Altitude [km]'], bins)\n",
    "data = emission_inventory.data.groupby(bin_idxs).sum()\n",
    "data.index=bins[data.index]\n",
    "\n",
    "fig, axs = plt.subplots(1,3, figsize=(14,3), sharey=True)\n",
    "\n",
    "axs[0].barh(data.index,data['H2O [kg]'],height=3.5), axs[0].set_ylabel('Altitude [km]'), axs[0].set_xlabel('H$_2$O [kg]')\n",
    "axs[1].barh(data.index,data['NO [kg]'],height=3.5), axs[1].set_xlabel('NO [kg]')\n",
    "axs[2].barh(data.index,data['H2 [kg]'],height=3.5), axs[2].set_xlabel('H$_2$ [kg]')\n",
    "    \n",
    "plt.show()"
   ]
  },
  {
   "cell_type": "code",
   "execution_count": 11,
   "id": "5ba397c8",
   "metadata": {},
   "outputs": [
    {
     "data": {
      "image/png": "[encoded data removed]",
      "text/plain": [
       "<Figure size 700x300 with 1 Axes>"
      ]
     },
     "metadata": {},
     "output_type": "display_data"
    }
   ],
   "source": [
    "plt.figure(figsize=(7,3))\n",
    "\n",
    "columns = ['O3 RF from H2O [mW m-2]','O3 RF from H2 [mW m-2]','O3 RF from NO [mW m-2]','H2O RF from H2O [mW m-2]']\n",
    "\n",
    "data = emission_inventory.data[columns].sum()\n",
    "data.plot.bar()\n",
    "\n",
    "plt.ylabel('Radiative forcing [mW$\\,$m-2]')\n",
    "plt.xticks(rotation=45, ha=\"right\")\n",
    "\n",
    "plt.show()"
   ]
  }
 ],
 "metadata": {
  "kernelspec": {
   "display_name": "1 Python 3 (based on the module python3/2023.01)",
   "language": "python",
   "name": "python3_2023_01"
  },
  "language_info": {
   "codemirror_mode": {
    "name": "ipython",
    "version": 3
   },
   "file_extension": ".py",
   "mimetype": "text/x-python",
   "name": "python",
   "nbconvert_exporter": "python",
   "pygments_lexer": "ipython3",
   "version": "3.10.10"
  }
 },
 "nbformat": 4,
 "nbformat_minor": 5
}
