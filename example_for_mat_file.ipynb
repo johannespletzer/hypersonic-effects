{
 "cells": [
  {
   "cell_type": "markdown",
   "id": "4d4139d7",
   "metadata": {},
   "source": [
    "# Example on how to use the python class"
   ]
  },
  {
   "cell_type": "markdown",
   "id": "69d8b67a",
   "metadata": {
    "tags": []
   },
   "source": [
    "## Get list of files and labels"
   ]
  },
  {
   "cell_type": "markdown",
   "id": "1b4acb30",
   "metadata": {},
   "source": [
    "List files, which are named with 'Traj' in folder 'data'"
   ]
  },
  {
   "cell_type": "code",
   "execution_count": 25,
   "id": "e3f6ca77-8450-44f3-9784-015e10be73ce",
   "metadata": {},
   "outputs": [],
   "source": [
    "files = !ls -lh <file_path>/*.mat"
   ]
  },
  {
   "cell_type": "code",
   "execution_count": 27,
   "id": "bd50b7da",
   "metadata": {},
   "outputs": [],
   "source": [
    "labels = [a.split('ory_')[-1].split('_2022')[0] for a in files]"
   ]
  },
  {
   "cell_type": "code",
   "execution_count": 28,
   "id": "f56681aa",
   "metadata": {},
   "outputs": [
    {
     "data": {
      "text/plain": [
       "['BRU_SYD', 'LHR_JFK']"
      ]
     },
     "execution_count": 28,
     "metadata": {},
     "output_type": "execute_result"
    }
   ],
   "source": [
    "labels"
   ]
  },
  {
   "cell_type": "markdown",
   "id": "69e21798",
   "metadata": {},
   "source": [
    "## Load class"
   ]
  },
  {
   "cell_type": "code",
   "execution_count": 29,
   "id": "398b831e",
   "metadata": {
    "tags": []
   },
   "outputs": [],
   "source": [
    "from package import calculate_rf as rf"
   ]
  },
  {
   "cell_type": "code",
   "execution_count": 32,
   "id": "b03201c0",
   "metadata": {},
   "outputs": [],
   "source": [
    "traj = rf.RadiativeForcing(files[0].split()[-1])"
   ]
  },
  {
   "cell_type": "markdown",
   "id": "d93d1acc",
   "metadata": {},
   "source": [
    "## Calculate radiative forcing and emissions for each trajectory-file"
   ]
  },
  {
   "cell_type": "code",
   "execution_count": 23,
   "id": "9c2d86c3",
   "metadata": {},
   "outputs": [],
   "source": [
    "net_rf = []\n",
    "net_emis = []\n",
    "\n",
    "for file in files:\n",
    "    trajectory = rf.RadiativeForcing(file.split()[-1])\n",
    "    trajectory.drop_vertical_levels()\n",
    "    \n",
    "    net_rf.append(trajectory.total_rf())\n",
    "    \n",
    "    net_emis.append(trajectory.total_emis())"
   ]
  },
  {
   "cell_type": "markdown",
   "id": "18044456",
   "metadata": {},
   "source": [
    "`calculate_rf(file.split()[-1])` creates a class instance with the trajectory data file.\n",
    "`load_mat_as_dataframe()` extracts the relevant data from the file within `__init__()`.\n",
    "`drop_vertical_levels()` limits the vertical emission to emission above the tropopause, which is the default. Other vertical limits can be given in hectopascal with e.g. `drop_vertical_levels(100)` to limit emissions to above 100 hPa.\n",
    "`total_rf()` returns the stratospheric adjusted radiative forcing of the trajectory.\n",
    "`total_emis()` returns the accumulated emissions for the chosen vertical levels."
   ]
  },
  {
   "cell_type": "markdown",
   "id": "43f97c9e",
   "metadata": {
    "tags": []
   },
   "source": [
    "## Output"
   ]
  },
  {
   "cell_type": "code",
   "execution_count": 24,
   "id": "fc93ad97",
   "metadata": {},
   "outputs": [
    {
     "data": {
      "text/html": [
       "<div>\n",
       "<style scoped>\n",
       "    .dataframe tbody tr th:only-of-type {\n",
       "        vertical-align: middle;\n",
       "    }\n",
       "\n",
       "    .dataframe tbody tr th {\n",
       "        vertical-align: top;\n",
       "    }\n",
       "\n",
       "    .dataframe thead th {\n",
       "        text-align: right;\n",
       "    }\n",
       "</style>\n",
       "<table border=\"1\" class=\"dataframe\">\n",
       "  <thead>\n",
       "    <tr style=\"text-align: right;\">\n",
       "      <th></th>\n",
       "      <th>Latitude</th>\n",
       "      <th>Longitude</th>\n",
       "      <th>Altitude [km]</th>\n",
       "      <th>tp_WMO [Pa]</th>\n",
       "      <th>Altitude [Pa]</th>\n",
       "      <th>H2O [kg]</th>\n",
       "      <th>NO [kg]</th>\n",
       "      <th>H2 [kg]</th>\n",
       "      <th>H2O RF from H2O [mW m-2]</th>\n",
       "      <th>O3 RF from H2O [mW m-2]</th>\n",
       "      <th>O3 RF from H2 [mW m-2]</th>\n",
       "      <th>O3 RF from NO [mW m-2]</th>\n",
       "    </tr>\n",
       "  </thead>\n",
       "  <tbody>\n",
       "    <tr>\n",
       "      <th>179</th>\n",
       "      <td>51.302952</td>\n",
       "      <td>-2.827075</td>\n",
       "      <td>10.950761</td>\n",
       "      <td>23006.607422</td>\n",
       "      <td>22876.031608</td>\n",
       "      <td>1217.678955</td>\n",
       "      <td>0.467333</td>\n",
       "      <td>14.270504</td>\n",
       "      <td>0.000001</td>\n",
       "      <td>-0.0</td>\n",
       "      <td>-0.0</td>\n",
       "      <td>0.0</td>\n",
       "    </tr>\n",
       "  </tbody>\n",
       "</table>\n",
       "</div>"
      ],
      "text/plain": [
       "      Latitude  Longitude  Altitude [km]   tp_WMO [Pa]  Altitude [Pa]   \n",
       "179  51.302952  -2.827075      10.950761  23006.607422   22876.031608  \\\n",
       "\n",
       "        H2O [kg]   NO [kg]    H2 [kg] H2O RF from H2O [mW m-2]   \n",
       "179  1217.678955  0.467333  14.270504                 0.000001  \\\n",
       "\n",
       "    O3 RF from H2O [mW m-2] O3 RF from H2 [mW m-2] O3 RF from NO [mW m-2]  \n",
       "179                    -0.0                   -0.0                    0.0  "
      ]
     },
     "execution_count": 24,
     "metadata": {},
     "output_type": "execute_result"
    }
   ],
   "source": [
    "trajectory.data.head(1)"
   ]
  },
  {
   "cell_type": "markdown",
   "id": "4257665f",
   "metadata": {},
   "source": [
    "total_emis() returns three values with H$_2$O, H$_2$ and NO emission above the tropopause in tons in this order"
   ]
  },
  {
   "cell_type": "code",
   "execution_count": 15,
   "id": "3839c58a",
   "metadata": {},
   "outputs": [
    {
     "data": {
      "text/plain": [
       "[[1095.47, 3.46, 8.65], [556.47, 4.09, 1.87]]"
      ]
     },
     "execution_count": 15,
     "metadata": {},
     "output_type": "execute_result"
    }
   ],
   "source": [
    "net_emis"
   ]
  },
  {
   "cell_type": "markdown",
   "id": "af093de9",
   "metadata": {},
   "source": [
    "total_rf() returns one value with radiative forcing from water vapour changes due to water vapour emisson and ozone radiative forcing from H$_2$O, H$_2$ and NO emission in mWm-2"
   ]
  },
  {
   "cell_type": "code",
   "execution_count": 16,
   "id": "4b71b1fc",
   "metadata": {},
   "outputs": [
    {
     "data": {
      "text/plain": [
       "[0.002277626952656135, 0.0008800361503643599]"
      ]
     },
     "execution_count": 16,
     "metadata": {},
     "output_type": "execute_result"
    }
   ],
   "source": [
    "net_rf"
   ]
  },
  {
   "cell_type": "markdown",
   "id": "893d3737",
   "metadata": {},
   "source": [
    "## Visualisation"
   ]
  },
  {
   "cell_type": "code",
   "execution_count": 79,
   "id": "765cb478",
   "metadata": {},
   "outputs": [
    {
     "data": {
      "image/png": "[encoded data removed]",
      "text/plain": [
       "<Figure size 1400x300 with 3 Axes>"
      ]
     },
     "metadata": {},
     "output_type": "display_data"
    }
   ],
   "source": [
    "bins = np.linspace(0, 36, 20)\n",
    "bin_idxs = np.digitize(traj.data['Altitude [km]'], bins)\n",
    "data = traj.data.groupby(bin_idxs).sum()\n",
    "data.index=bins[data.index]\n",
    "\n",
    "fig, axs = plt.subplots(1,3, figsize=(14,3), sharey=True)\n",
    "\n",
    "axs[0].barh(data.index,data['H2O [kg]'],height=3.5), axs[0].set_ylabel('Altitude [km]'), axs[0].set_xlabel('H$_2$O [kg]')\n",
    "axs[1].barh(data.index,data['NO [kg]'],height=3.5), axs[1].set_xlabel('NO [kg]')\n",
    "axs[2].barh(data.index,data['H2 [kg]'],height=3.5), axs[2].set_xlabel('H$_2$ [kg]')\n",
    "    \n",
    "plt.show()"
   ]
  },
  {
   "cell_type": "code",
   "execution_count": 83,
   "id": "5511cbdf",
   "metadata": {},
   "outputs": [
    {
     "data": {
      "image/png": "[encoded data removed]",
      "text/plain": [
       "<Figure size 700x300 with 1 Axes>"
      ]
     },
     "metadata": {},
     "output_type": "display_data"
    }
   ],
   "source": [
    "plt.figure(figsize=(7,3))\n",
    "\n",
    "columns = ['O3 RF from H2O [mW m-2]','O3 RF from H2 [mW m-2]','O3 RF from NO [mW m-2]','H2O RF from H2O [mW m-2]']\n",
    "\n",
    "data = trajectory.data[columns].sum()\n",
    "data.plot.bar()\n",
    "\n",
    "plt.ylabel('Radiative forcing [mW$\\,$m-2]')\n",
    "plt.xticks(rotation=45, ha=\"right\")\n",
    "\n",
    "plt.show()"
   ]
  }
 ],
 "metadata": {
  "kernelspec": {
   "display_name": "1 Python 3 (based on the module python3/2023.01)",
   "language": "python",
   "name": "python3_2023_01"
  },
  "language_info": {
   "codemirror_mode": {
    "name": "ipython",
    "version": 3
   },
   "file_extension": ".py",
   "mimetype": "text/x-python",
   "name": "python",
   "nbconvert_exporter": "python",
   "pygments_lexer": "ipython3",
   "version": "3.10.10"
  }
 },
 "nbformat": 4,
 "nbformat_minor": 5
}
