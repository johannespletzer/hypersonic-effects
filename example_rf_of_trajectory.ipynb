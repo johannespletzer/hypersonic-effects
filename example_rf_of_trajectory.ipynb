{
 "cells": [
  {
   "cell_type": "markdown",
   "id": "4d4139d7",
   "metadata": {},
   "source": [
    "# Example on how to use the python class"
   ]
  },
  {
   "cell_type": "markdown",
   "id": "69d8b67a",
   "metadata": {
    "tags": []
   },
   "source": [
    "## Get list of files and labels"
   ]
  },
  {
   "cell_type": "markdown",
   "id": "1b4acb30",
   "metadata": {},
   "source": [
    "List files, which are named with 'Traj' in folder 'data'"
   ]
  },
  {
   "cell_type": "code",
   "execution_count": 1,
   "id": "e3f6ca77-8450-44f3-9784-015e10be73ce",
   "metadata": {},
   "outputs": [],
   "source": [
    "files = !ls -lh Data/*Traj*"
   ]
  },
  {
   "cell_type": "code",
   "execution_count": 2,
   "id": "f251535f",
   "metadata": {},
   "outputs": [
    {
     "data": {
      "text/plain": [
       "['Data/HTCM_Trajectory_BRU_SYD_2022-06-24_12_46_23.mat',\n",
       " 'Data/HTCM_Trajectory_LHR_JFK_2022-07-01_18_17_36.mat']"
      ]
     },
     "execution_count": 2,
     "metadata": {},
     "output_type": "execute_result"
    }
   ],
   "source": [
    "[a.split()[-1] for a in files]"
   ]
  },
  {
   "cell_type": "code",
   "execution_count": 3,
   "id": "bd50b7da",
   "metadata": {},
   "outputs": [],
   "source": [
    "labels = [a.split('ory_')[-1].split('_2022')[0] for a in files]"
   ]
  },
  {
   "cell_type": "code",
   "execution_count": 4,
   "id": "f56681aa",
   "metadata": {},
   "outputs": [
    {
     "data": {
      "text/plain": [
       "['BRU_SYD', 'LHR_JFK']"
      ]
     },
     "execution_count": 4,
     "metadata": {},
     "output_type": "execute_result"
    }
   ],
   "source": [
    "labels"
   ]
  },
  {
   "cell_type": "markdown",
   "id": "69e21798",
   "metadata": {},
   "source": [
    "## Load class"
   ]
  },
  {
   "cell_type": "code",
   "execution_count": 5,
   "id": "398b831e",
   "metadata": {
    "tags": []
   },
   "outputs": [],
   "source": [
    "from package import rf_of_trajectory as rf"
   ]
  },
  {
   "cell_type": "markdown",
   "id": "d93d1acc",
   "metadata": {},
   "source": [
    "## Calculate radiative forcing and emissions for each trajectory-file"
   ]
  },
  {
   "cell_type": "code",
   "execution_count": 6,
   "id": "9c2d86c3",
   "metadata": {},
   "outputs": [],
   "source": [
    "net_rf = []\n",
    "net_emis = []\n",
    "\n",
    "for file in files:\n",
    "    traj = rf.rf_of_trajectory(file.split()[-1])\n",
    "    traj.load_trajectory_as_dataframe()\n",
    "    traj.drop_vertical_levels()\n",
    "    \n",
    "    net_rf.append(traj.total_rf())\n",
    "    \n",
    "    net_emis.append(traj.total_emis())"
   ]
  },
  {
   "cell_type": "markdown",
   "id": "18044456",
   "metadata": {},
   "source": [
    "`rf_of_trajectory(file.split()[-1])` creates a class instance with the trajectory data file.\n",
    "`load_trajectory_as_dataframe()` extracts the relevant data from the file.\n",
    "`drop_vertical_levels()` limits the vertical emission to emission above the tropopause, which is the default. Other vertical limits can be given in hectopascal with e.g. `drop_vertical_levels(100)` to limit emissions to above 100 hPa.\n",
    "`total_rf()` returns the stratospheric adjusted radiative forcing of the trajectory.\n",
    "`total_emis()` returns the accumulated emissions for the chosen vertical levels."
   ]
  },
  {
   "cell_type": "markdown",
   "id": "43f97c9e",
   "metadata": {},
   "source": [
    "## Output"
   ]
  },
  {
   "cell_type": "markdown",
   "id": "b3cd5fdb",
   "metadata": {},
   "source": [
    "total_emis() returns three values with H$_2$O, H$_2$ and NO emission above the tropopause in tons in this order"
   ]
  },
  {
   "cell_type": "code",
   "execution_count": 7,
   "id": "35e88841",
   "metadata": {},
   "outputs": [
    {
     "data": {
      "text/plain": [
       "[[1095.47, 3.46, 8.65], [556.47, 4.09, 1.87]]"
      ]
     },
     "execution_count": 7,
     "metadata": {},
     "output_type": "execute_result"
    }
   ],
   "source": [
    "net_emis"
   ]
  },
  {
   "cell_type": "markdown",
   "id": "4d2e4e7c",
   "metadata": {},
   "source": [
    "total_rf() returns one value with radiative forcing from water vapour changes due to water vapour emisson and ozone radiative forcing from H$_2$O, H$_2$ and NO emission in mWm-2"
   ]
  },
  {
   "cell_type": "code",
   "execution_count": 8,
   "id": "19bac303",
   "metadata": {},
   "outputs": [
    {
     "data": {
      "text/plain": [
       "[0.002277627, 0.0008800362]"
      ]
     },
     "execution_count": 8,
     "metadata": {},
     "output_type": "execute_result"
    }
   ],
   "source": [
    "net_rf"
   ]
  }
 ],
 "metadata": {
  "kernelspec": {
   "display_name": "Python 3 (based on the module python3/2022.01)",
   "language": "python",
   "name": "python3_2022_01"
  },
  "language_info": {
   "codemirror_mode": {
    "name": "ipython",
    "version": 3
   },
   "file_extension": ".py",
   "mimetype": "text/x-python",
   "name": "python",
   "nbconvert_exporter": "python",
   "pygments_lexer": "ipython3",
   "version": "3.9.9"
  }
 },
 "nbformat": 4,
 "nbformat_minor": 5
}
